{
  "nbformat": 4,
  "nbformat_minor": 0,
  "metadata": {
    "colab": {
      "name": "Python Collections I.ipynb",
      "provenance": []
    },
    "kernelspec": {
      "name": "python3",
      "display_name": "Python 3"
    },
    "language_info": {
      "name": "python"
    }
  },
  "cells": [
    {
      "cell_type": "code",
      "metadata": {
        "id": "gwHm1z9wvq0O"
      },
      "source": [
        "idades = [39,15,16,30]"
      ],
      "execution_count": null,
      "outputs": []
    },
    {
      "cell_type": "code",
      "metadata": {
        "colab": {
          "base_uri": "https://localhost:8080/"
        },
        "id": "en8R21PRxUHo",
        "outputId": "db73109a-2cd4-42e9-8008-9c81d465c5ee"
      },
      "source": [
        "idades"
      ],
      "execution_count": null,
      "outputs": [
        {
          "output_type": "execute_result",
          "data": {
            "text/plain": [
              "[39, 15, 16, 30]"
            ]
          },
          "metadata": {
            "tags": []
          },
          "execution_count": 3
        }
      ]
    },
    {
      "cell_type": "code",
      "metadata": {
        "id": "7MsudNJfxYTx"
      },
      "source": [
        "idades.append(45)"
      ],
      "execution_count": null,
      "outputs": []
    },
    {
      "cell_type": "code",
      "metadata": {
        "colab": {
          "base_uri": "https://localhost:8080/"
        },
        "id": "ehELPzoIxiqT",
        "outputId": "88d818e6-b9c2-4d2a-a038-c493dad7477a"
      },
      "source": [
        "idades"
      ],
      "execution_count": null,
      "outputs": [
        {
          "output_type": "execute_result",
          "data": {
            "text/plain": [
              "[39, 15, 16, 30, 45]"
            ]
          },
          "metadata": {
            "tags": []
          },
          "execution_count": 5
        }
      ]
    },
    {
      "cell_type": "code",
      "metadata": {
        "colab": {
          "base_uri": "https://localhost:8080/"
        },
        "id": "sbbEMdoKxj9z",
        "outputId": "800cc1e9-7cf2-4475-f674-9efbd651fc6a"
      },
      "source": [
        "idades.insert(0,98)\n",
        "idades"
      ],
      "execution_count": null,
      "outputs": [
        {
          "output_type": "execute_result",
          "data": {
            "text/plain": [
              "[98, 39, 15, 16, 30, 45]"
            ]
          },
          "metadata": {
            "tags": []
          },
          "execution_count": 6
        }
      ]
    },
    {
      "cell_type": "code",
      "metadata": {
        "colab": {
          "base_uri": "https://localhost:8080/"
        },
        "id": "oB644ilaxoUk",
        "outputId": "7ade7d15-4ef4-4f0f-bfd4-7b7990cc0ed6"
      },
      "source": [
        "idades = [39,15,16,30]\n",
        "idades.extend([58,64,25])\n",
        "idades"
      ],
      "execution_count": null,
      "outputs": [
        {
          "output_type": "execute_result",
          "data": {
            "text/plain": [
              "[39, 15, 16, 30, 58, 64, 25]"
            ]
          },
          "metadata": {
            "tags": []
          },
          "execution_count": 8
        }
      ]
    },
    {
      "cell_type": "code",
      "metadata": {
        "colab": {
          "base_uri": "https://localhost:8080/"
        },
        "id": "hWC5_YWqyA0v",
        "outputId": "0de3715d-2740-452a-b9eb-df3d2c2a9e18"
      },
      "source": [
        "idades = [39,15,16,30]\n",
        "idades_no_ano_que_vem = [(idade+1)for idade in idades] #faz em uma linha uma operação por item da lista\n",
        "idades_no_ano_que_vem"
      ],
      "execution_count": null,
      "outputs": [
        {
          "output_type": "execute_result",
          "data": {
            "text/plain": [
              "[40, 16, 17, 31]"
            ]
          },
          "metadata": {
            "tags": []
          },
          "execution_count": 9
        }
      ]
    },
    {
      "cell_type": "code",
      "metadata": {
        "colab": {
          "base_uri": "https://localhost:8080/"
        },
        "id": "EgUu0akUywEy",
        "outputId": "2d4bd102-9cdf-4e51-80b6-fcc22ff654d5"
      },
      "source": [
        "#filtrando uma list em uma linha de codigo\n",
        "idades = [39,15,16,30,65,8,20,4,68,25,18]\n",
        "idades_filtradas = [(idade) for idade in idades if idade > 20] #somente aiores de 20 anos\n",
        "idades_filtradas"
      ],
      "execution_count": null,
      "outputs": [
        {
          "output_type": "execute_result",
          "data": {
            "text/plain": [
              "[39, 30, 65, 68, 25]"
            ]
          },
          "metadata": {
            "tags": []
          },
          "execution_count": 10
        }
      ]
    },
    {
      "cell_type": "markdown",
      "metadata": {
        "id": "k_bQVbTm1V4m"
      },
      "source": [
        "# Listas de objetos"
      ]
    },
    {
      "cell_type": "code",
      "metadata": {
        "id": "4sOb7h861ZCb"
      },
      "source": [
        "class ContaCorrente:\n",
        "  def __init__(self, codigo):\n",
        "    self.codigo = codigo\n",
        "    self.saldo = 0\n",
        "  def deposita(self, valor):\n",
        "    self.saldo += valor\n",
        "  def __str__(self):\n",
        "    return f'>>Codigo: {self.codigo} | Saldo: {self.saldo}<<'"
      ],
      "execution_count": null,
      "outputs": []
    },
    {
      "cell_type": "code",
      "metadata": {
        "colab": {
          "base_uri": "https://localhost:8080/"
        },
        "id": "FK9cPT7U2JA_",
        "outputId": "33d93483-0bd6-4ba4-e1e0-eed2ede7e261"
      },
      "source": [
        "conta_do_will = ContaCorrente(16)\n",
        "conta_do_will"
      ],
      "execution_count": null,
      "outputs": [
        {
          "output_type": "execute_result",
          "data": {
            "text/plain": [
              "<__main__.ContaCorrente at 0x7f1d89c5afd0>"
            ]
          },
          "metadata": {
            "tags": []
          },
          "execution_count": 12
        }
      ]
    },
    {
      "cell_type": "code",
      "metadata": {
        "colab": {
          "base_uri": "https://localhost:8080/"
        },
        "id": "jGzWK5iz2QbH",
        "outputId": "282f61de-b76c-4b77-ad50-e90df2dc40da"
      },
      "source": [
        "print(conta_do_will)"
      ],
      "execution_count": null,
      "outputs": [
        {
          "output_type": "stream",
          "text": [
            ">>Codigo: 16 | Saldo: 0<<\n"
          ],
          "name": "stdout"
        }
      ]
    },
    {
      "cell_type": "code",
      "metadata": {
        "colab": {
          "base_uri": "https://localhost:8080/"
        },
        "id": "d7ZDcj2W2VAL",
        "outputId": "722ac9da-c7cd-427a-c7cf-2ad2d3378ce6"
      },
      "source": [
        "conta_do_will.deposita(500)\n",
        "print(conta_do_will)"
      ],
      "execution_count": null,
      "outputs": [
        {
          "output_type": "stream",
          "text": [
            ">>Codigo: 16 | Saldo: 500<<\n"
          ],
          "name": "stdout"
        }
      ]
    },
    {
      "cell_type": "markdown",
      "metadata": {
        "id": "UW5aNdM670q7"
      },
      "source": [
        "# Herança e Polimorfismo"
      ]
    },
    {
      "cell_type": "code",
      "metadata": {
        "id": "XrS0Z6wp73eh"
      },
      "source": [
        "class Conta:\n",
        "  def __init__(self, codigo):\n",
        "    self.codigo = codigo\n",
        "    self.saldo = 0\n",
        "  def deposita(self, valor):\n",
        "    self.saldo += valor\n",
        "  def __str__(self):\n",
        "    return f'>>Codigo: {self.codigo} | Saldo: {self.saldo}<<'"
      ],
      "execution_count": null,
      "outputs": []
    },
    {
      "cell_type": "code",
      "metadata": {
        "id": "iymVgw9Z8N2Q"
      },
      "source": [
        "class ContaCorrente(Conta):\n",
        "  def passa_o_mes(self):\n",
        "    self.saldo -= 2 #desconta 2 reais por mês\n",
        "\n",
        "class ContaPoupanca(Conta):\n",
        "  def passa_o_mes(self):\n",
        "    self.saldo *= 1.01 #paga juros\n",
        "    self.saldo -= 2 #desconta manutenção da conta"
      ],
      "execution_count": null,
      "outputs": []
    },
    {
      "cell_type": "code",
      "metadata": {
        "id": "QR_HYExk8xYJ"
      },
      "source": [
        "conta1 = ContaCorrente(1)\n",
        "conta2 = ContaPoupanca(2)\n",
        "conta1.deposita(100)\n",
        "conta2.deposita(100)"
      ],
      "execution_count": null,
      "outputs": []
    },
    {
      "cell_type": "code",
      "metadata": {
        "id": "V7YEFH_K8_Z1"
      },
      "source": [
        "conta1.passa_o_mes()\n",
        "conta2.passa_o_mes()"
      ],
      "execution_count": null,
      "outputs": []
    },
    {
      "cell_type": "code",
      "metadata": {
        "colab": {
          "base_uri": "https://localhost:8080/"
        },
        "id": "suAVVItq9Dmd",
        "outputId": "52bafbc4-abc6-42ef-cb0d-9d0dcebaa931"
      },
      "source": [
        "print(conta1)\n",
        "print(conta2)"
      ],
      "execution_count": null,
      "outputs": [
        {
          "output_type": "stream",
          "text": [
            ">>Codigo: 1 | Saldo: 98<<\n",
            ">>Codigo: 2 | Saldo: 99.0<<\n"
          ],
          "name": "stdout"
        }
      ]
    },
    {
      "cell_type": "code",
      "metadata": {
        "colab": {
          "base_uri": "https://localhost:8080/"
        },
        "id": "N87R5OhL9HLC",
        "outputId": "442d6117-818f-4a70-be3c-0a3bf87d1cf9"
      },
      "source": [
        "conta1 = ContaCorrente(1)\n",
        "conta2 = ContaPoupanca(2)\n",
        "conta1.deposita(1000)\n",
        "conta2.deposita(1000)\n",
        "contas = [conta1, conta2]\n",
        "for conta in contas:\n",
        "  conta.passa_o_mes()\n",
        "  print(conta)"
      ],
      "execution_count": null,
      "outputs": [
        {
          "output_type": "stream",
          "text": [
            ">>Codigo: 1 | Saldo: 998<<\n",
            ">>Codigo: 2 | Saldo: 1008.0<<\n"
          ],
          "name": "stdout"
        }
      ]
    },
    {
      "cell_type": "markdown",
      "metadata": {
        "id": "UUmfWPQh_kxz"
      },
      "source": [
        "## Array - EVITAREMOS DE USAR ARRAY PURO\n",
        "Para trabalhos numéricos que exijam muito desempenho, usamos o **numpy**"
      ]
    },
    {
      "cell_type": "code",
      "metadata": {
        "colab": {
          "base_uri": "https://localhost:8080/"
        },
        "id": "NinCXucm_0dr",
        "outputId": "564cd916-e7ab-4eaf-9192-08c442257ebe"
      },
      "source": [
        "import array as arr\n",
        "\n",
        "arr.array('d', [1, 3.5])"
      ],
      "execution_count": null,
      "outputs": [
        {
          "output_type": "execute_result",
          "data": {
            "text/plain": [
              "array('d', [1.0, 3.5])"
            ]
          },
          "metadata": {
            "tags": []
          },
          "execution_count": 21
        }
      ]
    },
    {
      "cell_type": "code",
      "metadata": {
        "colab": {
          "base_uri": "https://localhost:8080/",
          "height": 165
        },
        "id": "5rErwQ1B_4wa",
        "outputId": "528a653c-b943-434b-b4a7-256242c864db"
      },
      "source": [
        "arr.array('d', [1, 3.5, 'Guilherme']) #falha pois não é possivel mesclar tipos diferentes de dados em um array"
      ],
      "execution_count": null,
      "outputs": [
        {
          "output_type": "error",
          "ename": "TypeError",
          "evalue": "ignored",
          "traceback": [
            "\u001b[0;31m---------------------------------------------------------------------------\u001b[0m",
            "\u001b[0;31mTypeError\u001b[0m                                 Traceback (most recent call last)",
            "\u001b[0;32m<ipython-input-22-210e78fceeae>\u001b[0m in \u001b[0;36m<module>\u001b[0;34m()\u001b[0m\n\u001b[0;32m----> 1\u001b[0;31m \u001b[0marr\u001b[0m\u001b[0;34m.\u001b[0m\u001b[0marray\u001b[0m\u001b[0;34m(\u001b[0m\u001b[0;34m'd'\u001b[0m\u001b[0;34m,\u001b[0m \u001b[0;34m[\u001b[0m\u001b[0;36m1\u001b[0m\u001b[0;34m,\u001b[0m \u001b[0;36m3.5\u001b[0m\u001b[0;34m,\u001b[0m \u001b[0;34m'Guilherme'\u001b[0m\u001b[0;34m]\u001b[0m\u001b[0;34m)\u001b[0m \u001b[0;31m#falha pois não é possivel mesclar tipos diferentes de dados em um array\u001b[0m\u001b[0;34m\u001b[0m\u001b[0;34m\u001b[0m\u001b[0m\n\u001b[0m",
            "\u001b[0;31mTypeError\u001b[0m: must be real number, not str"
          ]
        }
      ]
    },
    {
      "cell_type": "code",
      "metadata": {
        "id": "6auPDltzADvj"
      },
      "source": [
        "# Usar: !pip install numpy para instalar a biblioteca, caso ainda não a tenha"
      ],
      "execution_count": null,
      "outputs": []
    },
    {
      "cell_type": "code",
      "metadata": {
        "colab": {
          "base_uri": "https://localhost:8080/"
        },
        "id": "3hKLioZ-AQ8Y",
        "outputId": "47ae6f3b-02cf-4987-d70c-7d48cb50216e"
      },
      "source": [
        "import numpy as np\n",
        "\n",
        "numeros = np.array([1, 3.5])\n",
        "numeros"
      ],
      "execution_count": null,
      "outputs": [
        {
          "output_type": "execute_result",
          "data": {
            "text/plain": [
              "array([1. , 3.5])"
            ]
          },
          "metadata": {
            "tags": []
          },
          "execution_count": 24
        }
      ]
    },
    {
      "cell_type": "code",
      "metadata": {
        "colab": {
          "base_uri": "https://localhost:8080/",
          "height": 165
        },
        "id": "wVJWmrKUAUxJ",
        "outputId": "5f2e14f4-f61b-4df8-fec3-fcca5fdff793"
      },
      "source": [
        "array([4. , 6.5])"
      ],
      "execution_count": null,
      "outputs": [
        {
          "output_type": "error",
          "ename": "NameError",
          "evalue": "ignored",
          "traceback": [
            "\u001b[0;31m---------------------------------------------------------------------------\u001b[0m",
            "\u001b[0;31mNameError\u001b[0m                                 Traceback (most recent call last)",
            "\u001b[0;32m<ipython-input-25-934d66ff67b4>\u001b[0m in \u001b[0;36m<module>\u001b[0;34m()\u001b[0m\n\u001b[0;32m----> 1\u001b[0;31m \u001b[0marray\u001b[0m\u001b[0;34m(\u001b[0m\u001b[0;34m[\u001b[0m\u001b[0;36m4.\u001b[0m \u001b[0;34m,\u001b[0m \u001b[0;36m6.5\u001b[0m\u001b[0;34m]\u001b[0m\u001b[0;34m)\u001b[0m\u001b[0;34m\u001b[0m\u001b[0;34m\u001b[0m\u001b[0m\n\u001b[0m",
            "\u001b[0;31mNameError\u001b[0m: name 'array' is not defined"
          ]
        }
      ]
    },
    {
      "cell_type": "code",
      "metadata": {
        "id": "N6gxLD4oAXrj"
      },
      "source": [
        "class ContaSalario:\n",
        "  \n",
        "  def __init__(self, codigo):\n",
        "    self._codigo = codigo\n",
        "    self._saldo = 0\n",
        "    \n",
        "  def __eq__(self, outro):\n",
        "    if type(outro) != ContaSalario:\n",
        "      return False\n",
        "    \n",
        "    return self._codigo == outro._codigo and self._saldo == outro._saldo\n",
        "  \n",
        "  def deposita(self, valor):\n",
        "    self._saldo += valor\n",
        "    \n",
        "  def __str__(self):\n",
        "    return \"[>>Codigo {} Saldo {}<<]\".format(self._codigo, self._saldo)"
      ],
      "execution_count": null,
      "outputs": []
    },
    {
      "cell_type": "code",
      "metadata": {
        "id": "vcrz-GZQCy2h"
      },
      "source": [
        "conta1 = ContaSalario(37)\n",
        "conta2 = ContaCorrente(37)"
      ],
      "execution_count": null,
      "outputs": []
    },
    {
      "cell_type": "code",
      "metadata": {
        "colab": {
          "base_uri": "https://localhost:8080/"
        },
        "id": "cHAjY1zkC1oW",
        "outputId": "cfc3b821-1833-4201-bb12-b5c84ad6edec"
      },
      "source": [
        "\n",
        "conta1 == conta2"
      ],
      "execution_count": null,
      "outputs": [
        {
          "output_type": "execute_result",
          "data": {
            "text/plain": [
              "False"
            ]
          },
          "metadata": {
            "tags": []
          },
          "execution_count": 28
        }
      ]
    },
    {
      "cell_type": "code",
      "metadata": {
        "colab": {
          "base_uri": "https://localhost:8080/"
        },
        "id": "qawGwsPAC4dr",
        "outputId": "b76fc156-faef-47ed-d169-289837808908"
      },
      "source": [
        "isinstance(ContaCorrente(34), ContaCorrente)"
      ],
      "execution_count": null,
      "outputs": [
        {
          "output_type": "execute_result",
          "data": {
            "text/plain": [
              "True"
            ]
          },
          "metadata": {
            "tags": []
          },
          "execution_count": 29
        }
      ]
    },
    {
      "cell_type": "code",
      "metadata": {
        "colab": {
          "base_uri": "https://localhost:8080/"
        },
        "id": "1edz6MmaC8ax",
        "outputId": "b86e8750-37ce-485a-b010-481dc3089da6"
      },
      "source": [
        "isinstance(ContaCorrente(34), Conta)"
      ],
      "execution_count": null,
      "outputs": [
        {
          "output_type": "execute_result",
          "data": {
            "text/plain": [
              "True"
            ]
          },
          "metadata": {
            "tags": []
          },
          "execution_count": 30
        }
      ]
    },
    {
      "cell_type": "markdown",
      "metadata": {
        "id": "HuYwHhV8E79F"
      },
      "source": [
        "# Usando Enumerate e \"Desempacotando\" dados de tuplas em laços"
      ]
    },
    {
      "cell_type": "code",
      "metadata": {
        "colab": {
          "base_uri": "https://localhost:8080/"
        },
        "id": "nLPdMglOFDra",
        "outputId": "9f204252-9939-4d7c-b999-5dca13b79391"
      },
      "source": [
        "idades = [65,12,35,89,8,45,23,87]\n",
        "for tupla_idade in enumerate(idades):\n",
        "  print(tupla_idade)"
      ],
      "execution_count": null,
      "outputs": [
        {
          "output_type": "stream",
          "text": [
            "(0, 65)\n",
            "(1, 12)\n",
            "(2, 35)\n",
            "(3, 89)\n",
            "(4, 8)\n",
            "(5, 45)\n",
            "(6, 23)\n",
            "(7, 87)\n"
          ],
          "name": "stdout"
        }
      ]
    },
    {
      "cell_type": "code",
      "metadata": {
        "colab": {
          "base_uri": "https://localhost:8080/"
        },
        "id": "FsAwpQ9FFVs6",
        "outputId": "a66485e4-4c21-4216-a11e-8003646cc2de"
      },
      "source": [
        "idades = [65,12,35,89,8,45,23,87]\n",
        "for indice, idade in enumerate(idades):\n",
        "  print(indice,\"x\", idade)"
      ],
      "execution_count": null,
      "outputs": [
        {
          "output_type": "stream",
          "text": [
            "0 x 65\n",
            "1 x 12\n",
            "2 x 35\n",
            "3 x 89\n",
            "4 x 8\n",
            "5 x 45\n",
            "6 x 23\n",
            "7 x 87\n"
          ],
          "name": "stdout"
        }
      ]
    },
    {
      "cell_type": "code",
      "metadata": {
        "colab": {
          "base_uri": "https://localhost:8080/"
        },
        "id": "1WVNqnoMFeo0",
        "outputId": "105b52c2-32aa-41df-9103-10f2fa67b8e5"
      },
      "source": [
        "pessoas = [(\"William\", 23, 1997),(\"Clarice\", 65, 1962), (\"Tiago\", 21, 1999)]\n",
        "for nome, idade, nascimento in pessoas:\n",
        "  print(nome,\"tem\", idade, \"e nasceu em\", nascimento)"
      ],
      "execution_count": null,
      "outputs": [
        {
          "output_type": "stream",
          "text": [
            "William tem 23 e nasceu em 1997\n",
            "Clarice tem 65 e nasceu em 1962\n",
            "Tiago tem 21 e nasceu em 1999\n"
          ],
          "name": "stdout"
        }
      ]
    },
    {
      "cell_type": "code",
      "metadata": {
        "colab": {
          "base_uri": "https://localhost:8080/"
        },
        "id": "Ld7ebiVpF5ab",
        "outputId": "5b861d8f-bc53-4739-be9b-aed980811378"
      },
      "source": [
        "pessoas = [(\"William\", 23, 1997),(\"Clarice\", 65, 1962), (\"Tiago\", 21, 1999)]\n",
        "for nome, _, _ in pessoas: #quando não quero usar o restante\n",
        "  print(nome)"
      ],
      "execution_count": null,
      "outputs": [
        {
          "output_type": "stream",
          "text": [
            "William\n",
            "Clarice\n",
            "Tiago\n"
          ],
          "name": "stdout"
        }
      ]
    },
    {
      "cell_type": "markdown",
      "metadata": {
        "id": "0nL4iIU_HBVg"
      },
      "source": [
        "# Ordenando valores"
      ]
    },
    {
      "cell_type": "code",
      "metadata": {
        "id": "4dOT94YbHDZG"
      },
      "source": [
        "idades = [65,12,35,89,8,45,23,87]"
      ],
      "execution_count": null,
      "outputs": []
    },
    {
      "cell_type": "code",
      "metadata": {
        "colab": {
          "base_uri": "https://localhost:8080/"
        },
        "id": "41aWxawSHGlj",
        "outputId": "f1d84735-e74b-4580-9c34-afd8074f4213"
      },
      "source": [
        "sorted(idades) #ordena, sem alterar o valor da lista"
      ],
      "execution_count": null,
      "outputs": [
        {
          "output_type": "execute_result",
          "data": {
            "text/plain": [
              "[8, 12, 23, 35, 45, 65, 87, 89]"
            ]
          },
          "metadata": {
            "tags": []
          },
          "execution_count": 38
        }
      ]
    },
    {
      "cell_type": "code",
      "metadata": {
        "colab": {
          "base_uri": "https://localhost:8080/"
        },
        "id": "8-MkKK8kHJLB",
        "outputId": "78c62a82-da93-4edc-a85d-386f7c61deda"
      },
      "source": [
        "idades"
      ],
      "execution_count": null,
      "outputs": [
        {
          "output_type": "execute_result",
          "data": {
            "text/plain": [
              "[65, 12, 35, 89, 8, 45, 23, 87]"
            ]
          },
          "metadata": {
            "tags": []
          },
          "execution_count": 39
        }
      ]
    },
    {
      "cell_type": "code",
      "metadata": {
        "colab": {
          "base_uri": "https://localhost:8080/"
        },
        "id": "FAWRFvf9HPAI",
        "outputId": "ef8e083b-25ca-4a24-a6bc-05edc9f0cbd1"
      },
      "source": [
        "sorted(idades, reverse=True)"
      ],
      "execution_count": null,
      "outputs": [
        {
          "output_type": "execute_result",
          "data": {
            "text/plain": [
              "[89, 87, 65, 45, 35, 23, 12, 8]"
            ]
          },
          "metadata": {
            "tags": []
          },
          "execution_count": 41
        }
      ]
    },
    {
      "cell_type": "code",
      "metadata": {
        "id": "kqALMwQFHVCP"
      },
      "source": [
        "idades.sort() #ordena e APLICA"
      ],
      "execution_count": null,
      "outputs": []
    },
    {
      "cell_type": "code",
      "metadata": {
        "colab": {
          "base_uri": "https://localhost:8080/"
        },
        "id": "lUCB061vHbog",
        "outputId": "6289e956-166e-4720-f34e-48b86a1c766a"
      },
      "source": [
        "idades"
      ],
      "execution_count": null,
      "outputs": [
        {
          "output_type": "execute_result",
          "data": {
            "text/plain": [
              "[8, 12, 23, 35, 45, 65, 87, 89]"
            ]
          },
          "metadata": {
            "tags": []
          },
          "execution_count": 43
        }
      ]
    },
    {
      "cell_type": "code",
      "metadata": {
        "id": "vOBVuaRrHcOQ"
      },
      "source": [
        "idades.sort(reverse=True)"
      ],
      "execution_count": null,
      "outputs": []
    },
    {
      "cell_type": "code",
      "metadata": {
        "colab": {
          "base_uri": "https://localhost:8080/"
        },
        "id": "Z5fC-vRMHhUq",
        "outputId": "1ed39f04-8680-4543-95cc-9575266032d3"
      },
      "source": [
        "idades"
      ],
      "execution_count": null,
      "outputs": [
        {
          "output_type": "execute_result",
          "data": {
            "text/plain": [
              "[89, 87, 65, 45, 35, 23, 12, 8]"
            ]
          },
          "metadata": {
            "tags": []
          },
          "execution_count": 45
        }
      ]
    },
    {
      "cell_type": "markdown",
      "metadata": {
        "id": "Jgw_BKDSN2gk"
      },
      "source": [
        "## Ordenando Objetos"
      ]
    },
    {
      "cell_type": "code",
      "metadata": {
        "colab": {
          "base_uri": "https://localhost:8080/"
        },
        "id": "txEiOGeQHiEo",
        "outputId": "672e1aa6-c5e8-4c4f-f12d-3504efd9dbe7"
      },
      "source": [
        "class ContaSalario:\n",
        "  \n",
        "  def __init__(self, codigo):\n",
        "    self._codigo = codigo\n",
        "    self._saldo = 0\n",
        "    \n",
        "  def __eq__(self, outro):\n",
        "    if type(outro) != ContaSalario:\n",
        "      return False\n",
        "    \n",
        "    return self._codigo == outro._codigo and self._saldo == outro._saldo\n",
        "  \n",
        "  def deposita(self, valor):\n",
        "    self._saldo += valor\n",
        "    \n",
        "  def __str__(self):\n",
        "    return \"[>>Codigo {} Saldo {}<<]\".format(self._codigo, self._saldo)\n",
        "\n",
        "conta_do_guilherme = ContaSalario(17)\n",
        "conta_do_guilherme.deposita(500)\n",
        "\n",
        "conta_da_daniela = ContaSalario(3)\n",
        "conta_da_daniela.deposita(1000)\n",
        "\n",
        "conta_do_paulo = ContaSalario(133)\n",
        "conta_do_paulo.deposita(510)\n",
        "\n",
        "contas = [conta_do_guilherme, conta_da_daniela, conta_do_paulo]\n",
        "\n",
        "for conta in contas:\n",
        "  print(conta) #Mostra as contas"
      ],
      "execution_count": null,
      "outputs": [
        {
          "output_type": "stream",
          "text": [
            "[>>Codigo 17 Saldo 500<<]\n",
            "[>>Codigo 3 Saldo 1000<<]\n",
            "[>>Codigo 133 Saldo 510<<]\n"
          ],
          "name": "stdout"
        }
      ]
    },
    {
      "cell_type": "code",
      "metadata": {
        "colab": {
          "base_uri": "https://localhost:8080/",
          "height": 165
        },
        "id": "PJ-KZG9SKWPI",
        "outputId": "c779dad6-1ba5-43f3-b75c-bfa533c90345"
      },
      "source": [
        "sorted(contas) #nesse caso, não vai funcionar, pois falta definir os parâmetros (qual o critério para saber quem é maior?)"
      ],
      "execution_count": null,
      "outputs": [
        {
          "output_type": "error",
          "ename": "TypeError",
          "evalue": "ignored",
          "traceback": [
            "\u001b[0;31m---------------------------------------------------------------------------\u001b[0m",
            "\u001b[0;31mTypeError\u001b[0m                                 Traceback (most recent call last)",
            "\u001b[0;32m<ipython-input-48-4f13728b9ba4>\u001b[0m in \u001b[0;36m<module>\u001b[0;34m()\u001b[0m\n\u001b[0;32m----> 1\u001b[0;31m \u001b[0msorted\u001b[0m\u001b[0;34m(\u001b[0m\u001b[0mcontas\u001b[0m\u001b[0;34m)\u001b[0m \u001b[0;31m#nesse caso, não vai funcionar, pois falta definir os parâmetros (qual o critério para saber quem é maior?)\u001b[0m\u001b[0;34m\u001b[0m\u001b[0;34m\u001b[0m\u001b[0m\n\u001b[0m",
            "\u001b[0;31mTypeError\u001b[0m: '<' not supported between instances of 'ContaSalario' and 'ContaSalario'"
          ]
        }
      ]
    },
    {
      "cell_type": "code",
      "metadata": {
        "colab": {
          "base_uri": "https://localhost:8080/",
          "height": 165
        },
        "id": "tNYLSILNKx9v",
        "outputId": "b7e4af62-4363-4cf4-a018-e72548429e7a"
      },
      "source": [
        "conta_do_guilherme < conta_da_daniela #mesma situação"
      ],
      "execution_count": null,
      "outputs": [
        {
          "output_type": "error",
          "ename": "TypeError",
          "evalue": "ignored",
          "traceback": [
            "\u001b[0;31m---------------------------------------------------------------------------\u001b[0m",
            "\u001b[0;31mTypeError\u001b[0m                                 Traceback (most recent call last)",
            "\u001b[0;32m<ipython-input-49-bf2f80ad1a6d>\u001b[0m in \u001b[0;36m<module>\u001b[0;34m()\u001b[0m\n\u001b[0;32m----> 1\u001b[0;31m \u001b[0mconta_do_guilherme\u001b[0m \u001b[0;34m<\u001b[0m \u001b[0mconta_da_daniela\u001b[0m \u001b[0;31m#mesma situação\u001b[0m\u001b[0;34m\u001b[0m\u001b[0;34m\u001b[0m\u001b[0m\n\u001b[0m",
            "\u001b[0;31mTypeError\u001b[0m: '<' not supported between instances of 'ContaSalario' and 'ContaSalario'"
          ]
        }
      ]
    },
    {
      "cell_type": "code",
      "metadata": {
        "colab": {
          "base_uri": "https://localhost:8080/"
        },
        "id": "WO1KW7LsK4iw",
        "outputId": "e0acf96b-cf5a-4b2f-8809-d8dfd41157ee"
      },
      "source": [
        "#uma maneira de resolver é usar o saldo como key\n",
        "#SO QUE ISSO QUEBRA O ENCAPSULAMENTO, NÃO É LEGAL\n",
        "def extrai_saldo(conta):\n",
        "  return conta._saldo\n",
        "\n",
        "for conta in sorted(contas, key=extrai_saldo):\n",
        "  print(conta)"
      ],
      "execution_count": null,
      "outputs": [
        {
          "output_type": "stream",
          "text": [
            "[>>Codigo 17 Saldo 500<<]\n",
            "[>>Codigo 133 Saldo 510<<]\n",
            "[>>Codigo 3 Saldo 1000<<]\n"
          ],
          "name": "stdout"
        }
      ]
    },
    {
      "cell_type": "code",
      "metadata": {
        "colab": {
          "base_uri": "https://localhost:8080/"
        },
        "id": "N07kSMRqLIDe",
        "outputId": "cc4b1773-b0bd-421e-dcf9-d3ee6a9a16ff"
      },
      "source": [
        "#uma forma de acessar as informações de uma classe é:\n",
        "#mas isso ainda quebra o encapsulamento\n",
        "from operator import attrgetter\n",
        "\n",
        "for conta in sorted(contas, key=attrgetter(\"_saldo\")):\n",
        "  print(conta)"
      ],
      "execution_count": null,
      "outputs": [
        {
          "output_type": "stream",
          "text": [
            "[>>Codigo 17 Saldo 500<<]\n",
            "[>>Codigo 133 Saldo 510<<]\n",
            "[>>Codigo 3 Saldo 1000<<]\n"
          ],
          "name": "stdout"
        }
      ]
    },
    {
      "cell_type": "code",
      "metadata": {
        "colab": {
          "base_uri": "https://localhost:8080/"
        },
        "id": "TmxSCfhuRKXQ",
        "outputId": "ea09b3d6-2092-4516-fe86-14978d8053dc"
      },
      "source": [
        "#para ordenar por codigo caso o saldo seja igual\n",
        "for conta in sorted(contas, key=attrgetter(\"_saldo\", \"_codigo\")):\n",
        "  print(conta)"
      ],
      "execution_count": null,
      "outputs": [
        {
          "output_type": "stream",
          "text": [
            "[>>Codigo 17 Saldo 500<<]\n",
            "[>>Codigo 133 Saldo 510<<]\n",
            "[>>Codigo 3 Saldo 1000<<]\n"
          ],
          "name": "stdout"
        }
      ]
    },
    {
      "cell_type": "code",
      "metadata": {
        "colab": {
          "base_uri": "https://localhost:8080/"
        },
        "id": "gobd4W4cLd3C",
        "outputId": "eb8caa6d-0b4d-4d19-ffff-85d1283d0908"
      },
      "source": [
        "#RE-DECLARANDO\n",
        "class ContaSalario:\n",
        "  \n",
        "  def __init__(self, codigo):\n",
        "    self._codigo = codigo\n",
        "    self._saldo = 0\n",
        "    \n",
        "  def __lt__(self, outro): #a função \"__lt__\" indica o que deve ser usado como parâmetro de ordenação desses objetos\n",
        "      return self._saldo < outro._saldo\n",
        "\n",
        "  def __eq__(self, outro): #indica o que deve ser usado como parâmetro para dizer se as contas são iguais\n",
        "    if type(outro) != ContaSalario:\n",
        "      return False\n",
        "    \n",
        "    return self._codigo == outro._codigo and self._saldo == outro._saldo\n",
        "  \n",
        "  def deposita(self, valor):\n",
        "    self._saldo += valor\n",
        "    \n",
        "  def __str__(self):\n",
        "    return \"[>>Codigo {} Saldo {}<<]\".format(self._codigo, self._saldo)\n",
        "\n",
        "conta_do_guilherme = ContaSalario(17)\n",
        "conta_do_guilherme.deposita(500)\n",
        "\n",
        "conta_da_daniela = ContaSalario(3)\n",
        "conta_da_daniela.deposita(1000)\n",
        "\n",
        "conta_do_paulo = ContaSalario(133)\n",
        "conta_do_paulo.deposita(510)\n",
        "\n",
        "contas = [conta_do_guilherme, conta_da_daniela, conta_do_paulo]\n",
        "\n",
        "for conta in contas:\n",
        "  print(conta) #Mostra as contas"
      ],
      "execution_count": null,
      "outputs": [
        {
          "output_type": "stream",
          "text": [
            "[>>Codigo 17 Saldo 500<<]\n",
            "[>>Codigo 3 Saldo 1000<<]\n",
            "[>>Codigo 133 Saldo 510<<]\n"
          ],
          "name": "stdout"
        }
      ]
    },
    {
      "cell_type": "code",
      "metadata": {
        "colab": {
          "base_uri": "https://localhost:8080/"
        },
        "id": "l3RF2d3LMGIv",
        "outputId": "680352fc-b907-4524-d7b2-056c9dac7d7f"
      },
      "source": [
        "#agora as comparações vão funcionar\n",
        "conta_do_guilherme > conta_da_daniela"
      ],
      "execution_count": null,
      "outputs": [
        {
          "output_type": "execute_result",
          "data": {
            "text/plain": [
              "False"
            ]
          },
          "metadata": {
            "tags": []
          },
          "execution_count": 56
        }
      ]
    },
    {
      "cell_type": "code",
      "metadata": {
        "colab": {
          "base_uri": "https://localhost:8080/"
        },
        "id": "gBwTGys2MN6b",
        "outputId": "e2bd7bd6-fab6-4b76-abe0-4f87120d1fed"
      },
      "source": [
        "#ordenando as contas do menor para o maior SALDO\n",
        "for conta in sorted(contas):\n",
        "  print(conta)"
      ],
      "execution_count": null,
      "outputs": [
        {
          "output_type": "stream",
          "text": [
            "[>>Codigo 17 Saldo 500<<]\n",
            "[>>Codigo 133 Saldo 510<<]\n",
            "[>>Codigo 3 Saldo 1000<<]\n"
          ],
          "name": "stdout"
        }
      ]
    },
    {
      "cell_type": "code",
      "metadata": {
        "colab": {
          "base_uri": "https://localhost:8080/"
        },
        "id": "S8l1vvS9Mers",
        "outputId": "6ee12956-89e2-4f5a-8b39-752a4a1b6fad"
      },
      "source": [
        "#RE-DECLARANDO\n",
        "from functools import total_ordering\n",
        "\n",
        "@total_ordering\n",
        "class ContaSalario:\n",
        "  \n",
        "  def __init__(self, codigo):\n",
        "    self._codigo = codigo\n",
        "    self._saldo = 0\n",
        "    \n",
        "  def __eq__(self, outro):\n",
        "    if type(outro) != ContaSalario:\n",
        "      return False\n",
        "    \n",
        "    return self._codigo == outro._codigo and self._saldo == outro._saldo\n",
        "  \n",
        "  def __lt__(self, outro):\n",
        "    if self._saldo != outro._saldo:#adiciona possibilidade de ordenar pelo codigo caso o saldo seja igual\n",
        "      return self._saldo < outro._saldo\n",
        "    \n",
        "    return self._codigo < outro._codigo\n",
        "  \n",
        "  def deposita(self, valor):\n",
        "    self._saldo += valor\n",
        "    \n",
        "  def __str__(self):\n",
        "    return \"[>>Codigo {} Saldo {}<<]\".format(self._codigo, self._saldo)\n",
        "\n",
        "conta_do_guilherme = ContaSalario(17)\n",
        "conta_do_guilherme.deposita(500)\n",
        "\n",
        "conta_da_daniela = ContaSalario(3)\n",
        "conta_da_daniela.deposita(1000)\n",
        "\n",
        "conta_do_paulo = ContaSalario(133)\n",
        "conta_do_paulo.deposita(510)\n",
        "\n",
        "contas = [conta_do_guilherme, conta_da_daniela, conta_do_paulo]\n",
        "\n",
        "for conta in contas:\n",
        "  print(conta) #Mostra as contas"
      ],
      "execution_count": null,
      "outputs": [
        {
          "output_type": "stream",
          "text": [
            "[>>Codigo 17 Saldo 500<<]\n",
            "[>>Codigo 3 Saldo 1000<<]\n",
            "[>>Codigo 133 Saldo 510<<]\n"
          ],
          "name": "stdout"
        }
      ]
    },
    {
      "cell_type": "code",
      "metadata": {
        "colab": {
          "base_uri": "https://localhost:8080/"
        },
        "id": "hFWmmIhQQ-0n",
        "outputId": "f991c45f-f4b4-4053-e699-c727e08cd6f0"
      },
      "source": [
        "#agora as comparações vão funcionar\n",
        "conta_do_guilherme >= conta_da_daniela"
      ],
      "execution_count": null,
      "outputs": [
        {
          "output_type": "execute_result",
          "data": {
            "text/plain": [
              "False"
            ]
          },
          "metadata": {
            "tags": []
          },
          "execution_count": 59
        }
      ]
    },
    {
      "cell_type": "code",
      "metadata": {
        "id": "jVfKvumnRDur"
      },
      "source": [
        ""
      ],
      "execution_count": null,
      "outputs": []
    }
  ]
}