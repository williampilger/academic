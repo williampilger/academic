{
  "nbformat": 4,
  "nbformat_minor": 0,
  "metadata": {
    "colab": {
      "name": "Python Collections II",
      "provenance": []
    },
    "kernelspec": {
      "name": "python3",
      "display_name": "Python 3"
    },
    "language_info": {
      "name": "python"
    }
  },
  "cells": [
    {
      "cell_type": "markdown",
      "metadata": {
        "id": "fMknhdlYBTjc"
      },
      "source": [
        "# Collections - Parte II\n",
        "\n",
        "## Trabalhando com conjuntos - SET\n",
        "Importantes observações:\n",
        "  - set é um conjunto de valores;\n",
        "  - Os dados **não são indexados**, logo não posso usar meu_conjunto[x];\n",
        "  - São iteráveis. Contudo não apresentarão ordem específica."
      ]
    },
    {
      "cell_type": "code",
      "metadata": {
        "colab": {
          "base_uri": "https://localhost:8080/"
        },
        "id": "cFv8ol2tBNJV",
        "outputId": "a657a09d-6d00-49ad-a7b6-382909bcb746"
      },
      "source": [
        "# Numa declaração padrão:\n",
        "alunos_curso1 = [15, 65, 12, 8]\n",
        "alunos_curso2 = [45, 8, 32, 12]\n",
        "todos_alunos = alunos_curso1.copy()\n",
        "todos_alunos.extend(alunos_curso2)\n",
        "todos_alunos #Podemos ver que existem repetições"
      ],
      "execution_count": 5,
      "outputs": [
        {
          "output_type": "execute_result",
          "data": {
            "text/plain": [
              "[15, 65, 12, 8, 45, 8, 32, 12]"
            ]
          },
          "metadata": {
            "tags": []
          },
          "execution_count": 5
        }
      ]
    },
    {
      "cell_type": "code",
      "metadata": {
        "colab": {
          "base_uri": "https://localhost:8080/"
        },
        "id": "07FFJT8NF5XU",
        "outputId": "b215dcbb-09f3-4481-909c-29b302f1a72e"
      },
      "source": [
        "set(todos_alunos) #podemos verificar agora, que as repetições foram removidas. MAS a ordem foi perdida"
      ],
      "execution_count": 7,
      "outputs": [
        {
          "output_type": "execute_result",
          "data": {
            "text/plain": [
              "{8, 12, 15, 32, 45, 65}"
            ]
          },
          "metadata": {
            "tags": []
          },
          "execution_count": 7
        }
      ]
    },
    {
      "cell_type": "code",
      "metadata": {
        "colab": {
          "base_uri": "https://localhost:8080/"
        },
        "id": "ADc-0a5HGW4a",
        "outputId": "a9813b92-6989-4697-d5e3-3d7fb8a04445"
      },
      "source": [
        "{1, 56, 68, 56, 1, 89, 6, 4, 1, 20} #Ordem será perdida, e repetições eliminadas"
      ],
      "execution_count": 10,
      "outputs": [
        {
          "output_type": "execute_result",
          "data": {
            "text/plain": [
              "{1, 4, 6, 20, 56, 68, 89}"
            ]
          },
          "metadata": {
            "tags": []
          },
          "execution_count": 10
        }
      ]
    },
    {
      "cell_type": "markdown",
      "metadata": {
        "id": "9AYdH3rIHeve"
      },
      "source": [
        "Podemos declarar os dois grupos de alunos já como sets, e então poderemos aplicar outras propriedades interessantes, veja:"
      ]
    },
    {
      "cell_type": "code",
      "metadata": {
        "id": "wxrDhHJ9HEfh"
      },
      "source": [
        "alunos_curso1 = {15, 65, 12, 8}\n",
        "alunos_curso2 = {45, 8, 32, 12}"
      ],
      "execution_count": 11,
      "outputs": []
    },
    {
      "cell_type": "code",
      "metadata": {
        "colab": {
          "base_uri": "https://localhost:8080/"
        },
        "id": "zxeUebHmHvil",
        "outputId": "a0993154-92d4-482c-d04f-5e35f1761f8e"
      },
      "source": [
        "alunos_curso1 | alunos_curso2 # retorna a união dos dois conjuntos"
      ],
      "execution_count": 12,
      "outputs": [
        {
          "output_type": "execute_result",
          "data": {
            "text/plain": [
              "{8, 12, 15, 32, 45, 65}"
            ]
          },
          "metadata": {
            "tags": []
          },
          "execution_count": 12
        }
      ]
    },
    {
      "cell_type": "code",
      "metadata": {
        "colab": {
          "base_uri": "https://localhost:8080/"
        },
        "id": "8sZUqJpcH0Dr",
        "outputId": "12d3b1aa-d92f-48a2-a9f3-0dbafdd4f4ce"
      },
      "source": [
        "alunos_curso1 & alunos_curso2 # retorna o que há em comum nos dois"
      ],
      "execution_count": 13,
      "outputs": [
        {
          "output_type": "execute_result",
          "data": {
            "text/plain": [
              "{8, 12}"
            ]
          },
          "metadata": {
            "tags": []
          },
          "execution_count": 13
        }
      ]
    },
    {
      "cell_type": "code",
      "metadata": {
        "colab": {
          "base_uri": "https://localhost:8080/"
        },
        "id": "IdsBZrkZIA-6",
        "outputId": "ad70d17e-6323-41de-b943-a515fec0ec78"
      },
      "source": [
        "alunos_curso1 - alunos_curso2 # retorna os alunos do primeiro curso que não fizeram o segundo."
      ],
      "execution_count": 14,
      "outputs": [
        {
          "output_type": "execute_result",
          "data": {
            "text/plain": [
              "{15, 65}"
            ]
          },
          "metadata": {
            "tags": []
          },
          "execution_count": 14
        }
      ]
    },
    {
      "cell_type": "code",
      "metadata": {
        "colab": {
          "base_uri": "https://localhost:8080/"
        },
        "id": "c4yk1Bp3IboS",
        "outputId": "d13ba7f6-e917-41f9-82ed-b2a7e2fab016"
      },
      "source": [
        "alunos_curso1 ^ alunos_curso2 # retorna um \"Ou exclusivo\", ou seja, somente os que aparecem apenas em um deles"
      ],
      "execution_count": 15,
      "outputs": [
        {
          "output_type": "execute_result",
          "data": {
            "text/plain": [
              "{15, 32, 45, 65}"
            ]
          },
          "metadata": {
            "tags": []
          },
          "execution_count": 15
        }
      ]
    },
    {
      "cell_type": "markdown",
      "metadata": {
        "id": "C1h1oCERJ1_b"
      },
      "source": [
        "Adicionando / Removendo e conjelando conjuntos"
      ]
    },
    {
      "cell_type": "code",
      "metadata": {
        "colab": {
          "base_uri": "https://localhost:8080/"
        },
        "id": "xvSVPur8I0ok",
        "outputId": "122299db-26f5-40e7-9b18-3d82d261abc6"
      },
      "source": [
        "alunos = {15, 65, 12, 8}\n",
        "alunos.add(45)\n",
        "alunos"
      ],
      "execution_count": 16,
      "outputs": [
        {
          "output_type": "execute_result",
          "data": {
            "text/plain": [
              "{8, 12, 15, 45, 65}"
            ]
          },
          "metadata": {
            "tags": []
          },
          "execution_count": 16
        }
      ]
    },
    {
      "cell_type": "code",
      "metadata": {
        "colab": {
          "base_uri": "https://localhost:8080/"
        },
        "id": "Y5jUP4RbKIqi",
        "outputId": "10dfaf4c-25c5-40d4-e132-ede373d227ab"
      },
      "source": [
        "alunos.add(15) #não funciona adicionar um item que já existe\n",
        "alunos"
      ],
      "execution_count": 18,
      "outputs": [
        {
          "output_type": "execute_result",
          "data": {
            "text/plain": [
              "{8, 12, 15, 45, 65}"
            ]
          },
          "metadata": {
            "tags": []
          },
          "execution_count": 18
        }
      ]
    },
    {
      "cell_type": "code",
      "metadata": {
        "colab": {
          "base_uri": "https://localhost:8080/"
        },
        "id": "sC9hmZ-bKOTQ",
        "outputId": "e8adc7c4-1dec-4bb9-f9f6-478cb22347f1"
      },
      "source": [
        "alunos = {\"Aimée\", \"William\", \"Pelé\", \"Fabiola\", \"Vanessa\",} #Posso tranquilamente criar conjuntos de nomes.\n",
        "alunos"
      ],
      "execution_count": 19,
      "outputs": [
        {
          "output_type": "execute_result",
          "data": {
            "text/plain": [
              "{'Aimée', 'Fabiola', 'Pelé', 'Vanessa', 'William'}"
            ]
          },
          "metadata": {
            "tags": []
          },
          "execution_count": 19
        }
      ]
    },
    {
      "cell_type": "code",
      "metadata": {
        "colab": {
          "base_uri": "https://localhost:8080/"
        },
        "id": "IJPJp0syKk2_",
        "outputId": "065c6e99-c35f-4057-94fc-06d32adbc668"
      },
      "source": [
        "alunos.add(\"Cristiano\")\n",
        "alunos"
      ],
      "execution_count": 21,
      "outputs": [
        {
          "output_type": "execute_result",
          "data": {
            "text/plain": [
              "{'Aimée', 'Cristiano', 'Fabiola', 'Pelé', 'Vanessa', 'William'}"
            ]
          },
          "metadata": {
            "tags": []
          },
          "execution_count": 21
        }
      ]
    },
    {
      "cell_type": "code",
      "metadata": {
        "colab": {
          "base_uri": "https://localhost:8080/"
        },
        "id": "-W8EfxR2Kpxl",
        "outputId": "faa31b32-5e17-426c-955a-941db32413ae"
      },
      "source": [
        "'Cristiano' in alunos #posso testar se existe dentro"
      ],
      "execution_count": 22,
      "outputs": [
        {
          "output_type": "execute_result",
          "data": {
            "text/plain": [
              "True"
            ]
          },
          "metadata": {
            "tags": []
          },
          "execution_count": 22
        }
      ]
    },
    {
      "cell_type": "code",
      "metadata": {
        "colab": {
          "base_uri": "https://localhost:8080/"
        },
        "id": "eriTaZ3SKxrU",
        "outputId": "fe11f85a-b2f4-467f-8bbe-48445a665685"
      },
      "source": [
        "\"Felipe\" in alunos"
      ],
      "execution_count": 23,
      "outputs": [
        {
          "output_type": "execute_result",
          "data": {
            "text/plain": [
              "False"
            ]
          },
          "metadata": {
            "tags": []
          },
          "execution_count": 23
        }
      ]
    },
    {
      "cell_type": "code",
      "metadata": {
        "colab": {
          "base_uri": "https://localhost:8080/"
        },
        "id": "CBbm3NvnK1t7",
        "outputId": "b14e6faa-a485-4d90-9b87-33d3ee4474c3"
      },
      "source": [
        "#Posso, por exemplo, separar todas as palavra usadas num texto:\n",
        "texto = \"Este é meu texto, e por meio deste quero me apresentar e enrrolar bastante para tornar esta uma string maior\"\n",
        "dicionario = set(texto.split())\n",
        "dicionario"
      ],
      "execution_count": 27,
      "outputs": [
        {
          "output_type": "execute_result",
          "data": {
            "text/plain": [
              "{'Este',\n",
              " 'apresentar',\n",
              " 'bastante',\n",
              " 'deste',\n",
              " 'e',\n",
              " 'enrrolar',\n",
              " 'esta',\n",
              " 'maior',\n",
              " 'me',\n",
              " 'meio',\n",
              " 'meu',\n",
              " 'para',\n",
              " 'por',\n",
              " 'quero',\n",
              " 'string',\n",
              " 'texto,',\n",
              " 'tornar',\n",
              " 'uma',\n",
              " 'é'}"
            ]
          },
          "metadata": {
            "tags": []
          },
          "execution_count": 27
        }
      ]
    },
    {
      "cell_type": "code",
      "metadata": {
        "colab": {
          "base_uri": "https://localhost:8080/"
        },
        "id": "hjDa9samLKbh",
        "outputId": "339cf1ec-19b8-4e84-8de1-c8a36c2eeebe"
      },
      "source": [
        "# podemos congelar um set, para evitar que seja editado:\n",
        "alunos = {\"Aimée\", \"William\", \"Pelé\", \"Fabiola\", \"Vanessa\",} \n",
        "alunos = frozenset(alunos)\n",
        "alunos"
      ],
      "execution_count": 28,
      "outputs": [
        {
          "output_type": "execute_result",
          "data": {
            "text/plain": [
              "frozenset({'Aimée', 'Fabiola', 'Pelé', 'Vanessa', 'William'})"
            ]
          },
          "metadata": {
            "tags": []
          },
          "execution_count": 28
        }
      ]
    },
    {
      "cell_type": "code",
      "metadata": {
        "colab": {
          "base_uri": "https://localhost:8080/",
          "height": 182
        },
        "id": "MbLannLuLwHy",
        "outputId": "ae202dc6-15a5-4998-d2f9-efa48c1e4594"
      },
      "source": [
        "# ao tentar editar, teremos falhas\n",
        "alunos.add(\"Felippe\")"
      ],
      "execution_count": 29,
      "outputs": [
        {
          "output_type": "error",
          "ename": "AttributeError",
          "evalue": "ignored",
          "traceback": [
            "\u001b[0;31m---------------------------------------------------------------------------\u001b[0m",
            "\u001b[0;31mAttributeError\u001b[0m                            Traceback (most recent call last)",
            "\u001b[0;32m<ipython-input-29-2f8eb3cd544b>\u001b[0m in \u001b[0;36m<module>\u001b[0;34m()\u001b[0m\n\u001b[1;32m      1\u001b[0m \u001b[0;31m# ao tentar editar, teremos falhas\u001b[0m\u001b[0;34m\u001b[0m\u001b[0;34m\u001b[0m\u001b[0;34m\u001b[0m\u001b[0m\n\u001b[0;32m----> 2\u001b[0;31m \u001b[0malunos\u001b[0m\u001b[0;34m.\u001b[0m\u001b[0madd\u001b[0m\u001b[0;34m(\u001b[0m\u001b[0;34m\"Felippe\"\u001b[0m\u001b[0;34m)\u001b[0m\u001b[0;34m\u001b[0m\u001b[0;34m\u001b[0m\u001b[0m\n\u001b[0m",
            "\u001b[0;31mAttributeError\u001b[0m: 'frozenset' object has no attribute 'add'"
          ]
        }
      ]
    },
    {
      "cell_type": "markdown",
      "metadata": {
        "id": "qIC2t4wFOzYG"
      },
      "source": [
        "# Dicionários"
      ]
    },
    {
      "cell_type": "code",
      "metadata": {
        "colab": {
          "base_uri": "https://localhost:8080/"
        },
        "id": "uOZ1X84oL4Wz",
        "outputId": "e42cf47a-aa5e-4d18-9bae-ebf323edf3e2"
      },
      "source": [
        "palavras = {\"teste\" : 2, \"cachorro\" : 5}\n",
        "palavras[\"arvore\"] = 3\n",
        "palavras"
      ],
      "execution_count": 30,
      "outputs": [
        {
          "output_type": "execute_result",
          "data": {
            "text/plain": [
              "{'arvore': 3, 'cachorro': 5, 'teste': 2}"
            ]
          },
          "metadata": {
            "tags": []
          },
          "execution_count": 30
        }
      ]
    },
    {
      "cell_type": "code",
      "metadata": {
        "colab": {
          "base_uri": "https://localhost:8080/"
        },
        "id": "i8HTyRwCP76u",
        "outputId": "87dcbed4-37b8-4e06-edc2-ecc581623fe8"
      },
      "source": [
        "for palavra in palavras:\n",
        "  print(palavra)"
      ],
      "execution_count": 31,
      "outputs": [
        {
          "output_type": "stream",
          "text": [
            "teste\n",
            "cachorro\n",
            "arvore\n"
          ],
          "name": "stdout"
        }
      ]
    },
    {
      "cell_type": "code",
      "metadata": {
        "colab": {
          "base_uri": "https://localhost:8080/"
        },
        "id": "kyGSYlPCQB7D",
        "outputId": "fd1f4525-4110-416b-8e5f-9ea92c070998"
      },
      "source": [
        "for valor in palavras.values():\n",
        "  print(valor)"
      ],
      "execution_count": 33,
      "outputs": [
        {
          "output_type": "stream",
          "text": [
            "2\n",
            "5\n",
            "3\n"
          ],
          "name": "stdout"
        }
      ]
    },
    {
      "cell_type": "code",
      "metadata": {
        "colab": {
          "base_uri": "https://localhost:8080/"
        },
        "id": "JSQj00ToQLKu",
        "outputId": "04d4d302-2e87-400c-f41c-fc358da7c116"
      },
      "source": [
        "for conjunto in palavras.items():\n",
        "  print(conjunto)"
      ],
      "execution_count": 37,
      "outputs": [
        {
          "output_type": "stream",
          "text": [
            "('teste', 2)\n",
            "('cachorro', 5)\n",
            "('arvore', 3)\n"
          ],
          "name": "stdout"
        }
      ]
    },
    {
      "cell_type": "code",
      "metadata": {
        "colab": {
          "base_uri": "https://localhost:8080/"
        },
        "id": "Pkm7Ij17QTUG",
        "outputId": "befbe449-7b4b-49e9-a2ca-2d16b846cb08"
      },
      "source": [
        "for chave, valor in palavras.items():\n",
        "  print(chave,\"=\", valor)"
      ],
      "execution_count": 38,
      "outputs": [
        {
          "output_type": "stream",
          "text": [
            "teste = 2\n",
            "cachorro = 5\n",
            "arvore = 3\n"
          ],
          "name": "stdout"
        }
      ]
    },
    {
      "cell_type": "code",
      "metadata": {
        "colab": {
          "base_uri": "https://localhost:8080/"
        },
        "id": "CoQWPXNlQfQu",
        "outputId": "f0119127-047e-4cff-9e7e-13aadafe32a3"
      },
      "source": [
        "\"teste\" in palavras"
      ],
      "execution_count": 39,
      "outputs": [
        {
          "output_type": "execute_result",
          "data": {
            "text/plain": [
              "True"
            ]
          },
          "metadata": {
            "tags": []
          },
          "execution_count": 39
        }
      ]
    },
    {
      "cell_type": "code",
      "metadata": {
        "colab": {
          "base_uri": "https://localhost:8080/"
        },
        "id": "3OK5_hPxQuo3",
        "outputId": "c81281a4-bc6a-4c6a-fcbe-9439017d6cf7"
      },
      "source": [
        "\"pepino\" in palavras"
      ],
      "execution_count": 40,
      "outputs": [
        {
          "output_type": "execute_result",
          "data": {
            "text/plain": [
              "False"
            ]
          },
          "metadata": {
            "tags": []
          },
          "execution_count": 40
        }
      ]
    },
    {
      "cell_type": "code",
      "metadata": {
        "colab": {
          "base_uri": "https://localhost:8080/"
        },
        "id": "cQF2NlZiQxKd",
        "outputId": "ded9f9bd-795e-4a4c-bbcf-2af98297c845"
      },
      "source": [
        "#para obter o valor caso a palavra exista, ou zero (0) caso não, podemos usar o get\n",
        "palavras.get(\"pepino\", 0)"
      ],
      "execution_count": 41,
      "outputs": [
        {
          "output_type": "execute_result",
          "data": {
            "text/plain": [
              "0"
            ]
          },
          "metadata": {
            "tags": []
          },
          "execution_count": 41
        }
      ]
    },
    {
      "cell_type": "code",
      "metadata": {
        "colab": {
          "base_uri": "https://localhost:8080/"
        },
        "id": "Mnjkm7rIQ_if",
        "outputId": "8f405ac1-dc84-447c-f451-3ce104e29ff9"
      },
      "source": [
        "palavras.get(\"teste\", 0)"
      ],
      "execution_count": 42,
      "outputs": [
        {
          "output_type": "execute_result",
          "data": {
            "text/plain": [
              "2"
            ]
          },
          "metadata": {
            "tags": []
          },
          "execution_count": 42
        }
      ]
    },
    {
      "cell_type": "markdown",
      "metadata": {
        "id": "n4wom2MGSXBm"
      },
      "source": [
        "## Contagem de palavras em um texto"
      ]
    },
    {
      "cell_type": "code",
      "metadata": {
        "colab": {
          "base_uri": "https://localhost:8080/"
        },
        "id": "CCHRdfTvRD1k",
        "outputId": "ca2f7d55-7ee9-472a-d4cc-92be39d748d9"
      },
      "source": [
        "texto = \"Este é meu texto, e por meio deste quero me apresentar e enrrolar bastante para tornar esta uma string maior\"\n",
        "texto = texto.lower() #coloca tudo em minúsculo, caso algo esteja com letras maiúscolas\n",
        "aparicoes = {} #criando dicionário vazio\n",
        "for palavra in texto.split():\n",
        "  antes = aparicoes.get(palavra, 0)\n",
        "  aparicoes[palavra] = antes + 1\n",
        "aparicoes"
      ],
      "execution_count": 44,
      "outputs": [
        {
          "output_type": "execute_result",
          "data": {
            "text/plain": [
              "{'apresentar': 1,\n",
              " 'bastante': 1,\n",
              " 'deste': 1,\n",
              " 'e': 2,\n",
              " 'enrrolar': 1,\n",
              " 'esta': 1,\n",
              " 'este': 1,\n",
              " 'maior': 1,\n",
              " 'me': 1,\n",
              " 'meio': 1,\n",
              " 'meu': 1,\n",
              " 'para': 1,\n",
              " 'por': 1,\n",
              " 'quero': 1,\n",
              " 'string': 1,\n",
              " 'texto,': 1,\n",
              " 'tornar': 1,\n",
              " 'uma': 1,\n",
              " 'é': 1}"
            ]
          },
          "metadata": {
            "tags": []
          },
          "execution_count": 44
        }
      ]
    },
    {
      "cell_type": "code",
      "metadata": {
        "colab": {
          "base_uri": "https://localhost:8080/"
        },
        "id": "lNK_t4lVS_OJ",
        "outputId": "289a170a-c3ee-462d-dced-e78476c9489f"
      },
      "source": [
        "# Uma maneira mais eficiente de fazer isso seria utilizando uma coleção padrão do python:\n",
        "from collections import defaultdict\n",
        "texto = \"Este é meu texto, e por meio deste quero me apresentar e enrrolar bastante para tornar esta uma string maior\"\n",
        "texto = texto.lower() #coloca tudo em minúsculo, caso algo esteja com letras maiúscolas\n",
        "aparicoes = defaultdict(int) #criando dicionário mas agora quando um valor novo deve ser criado ele automaticamente cria um int\n",
        "for palavra in texto.split():\n",
        "  aparicoes[palavra] += 1\n",
        "aparicoes\n"
      ],
      "execution_count": 47,
      "outputs": [
        {
          "output_type": "execute_result",
          "data": {
            "text/plain": [
              "defaultdict(int,\n",
              "            {'apresentar': 1,\n",
              "             'bastante': 1,\n",
              "             'deste': 1,\n",
              "             'e': 2,\n",
              "             'enrrolar': 1,\n",
              "             'esta': 1,\n",
              "             'este': 1,\n",
              "             'maior': 1,\n",
              "             'me': 1,\n",
              "             'meio': 1,\n",
              "             'meu': 1,\n",
              "             'para': 1,\n",
              "             'por': 1,\n",
              "             'quero': 1,\n",
              "             'string': 1,\n",
              "             'texto,': 1,\n",
              "             'tornar': 1,\n",
              "             'uma': 1,\n",
              "             'é': 1})"
            ]
          },
          "metadata": {
            "tags": []
          },
          "execution_count": 47
        }
      ]
    },
    {
      "cell_type": "code",
      "metadata": {
        "colab": {
          "base_uri": "https://localhost:8080/"
        },
        "id": "Pi_8DAWZUb0Q",
        "outputId": "03d74256-d917-48e1-82d8-045cc6323b84"
      },
      "source": [
        "# Mas a API já possui uma função que serve para isso. Veja:\n",
        "from collections import Counter\n",
        "texto = \"Este é meu texto, e por meio deste quero me apresentar e enrrolar bastante para tornar esta uma string maior\"\n",
        "aparicoes = Counter(texto.split())\n",
        "aparicoes"
      ],
      "execution_count": 48,
      "outputs": [
        {
          "output_type": "execute_result",
          "data": {
            "text/plain": [
              "Counter({'Este': 1,\n",
              "         'apresentar': 1,\n",
              "         'bastante': 1,\n",
              "         'deste': 1,\n",
              "         'e': 2,\n",
              "         'enrrolar': 1,\n",
              "         'esta': 1,\n",
              "         'maior': 1,\n",
              "         'me': 1,\n",
              "         'meio': 1,\n",
              "         'meu': 1,\n",
              "         'para': 1,\n",
              "         'por': 1,\n",
              "         'quero': 1,\n",
              "         'string': 1,\n",
              "         'texto,': 1,\n",
              "         'tornar': 1,\n",
              "         'uma': 1,\n",
              "         'é': 1})"
            ]
          },
          "metadata": {
            "tags": []
          },
          "execution_count": 48
        }
      ]
    },
    {
      "cell_type": "markdown",
      "metadata": {
        "id": "HJR7Bx5TX2Sz"
      },
      "source": [
        "# Implementando um contador de caracteres e cálculo de frequência"
      ]
    },
    {
      "cell_type": "code",
      "metadata": {
        "id": "aeeKFCJIUw9u"
      },
      "source": [
        "texto1 = \"\"\"\n",
        "Para começar a fazer vendas online, uma empresa que fabrica adesivos criou uma página para pré cadastro de cartão de crédito que contém campos como nome, idade, endereço, CPF entre outros.\n",
        "\n",
        "O problema é que alguns cadastros não possuem um formato de CPF válido, isso porque o campo não possui nenhuma validação. Ou seja, o campo está aceitando não só números como letras e outros tipos de caractere.\n",
        "\n",
        "O que vamos fazer é encontrar uma maneira de ajudar o usuário de forma mais clara possível a preencher o cadastro e garantir a validação no front-end antes que os dados sejam enviados para o back-end.\n",
        "\n",
        "\n",
        "\n",
        "Como podemos notar não temos nenhuma validação, então fica confuso se devemos ou não colocar ponto ou traço no CPF e pode acontecer do usuário colocar outros caracteres no campo sem querer.\n",
        "\n",
        "Para isso evitar que isso ocorra vamos usar o atributo pattern do HTML5 que nos permite fazer uso das famosas expressões regulares que nada mais são que padrões utilizados para selecionar caracteres em uma string.\n",
        "\n",
        "Na nossa verificação vamos usar a lista [0-9], esse padrão indica que queremos os números de 0 até 9 e o intervalo {11}, indicando que temos que ter um número de 11 dígitos no nosso campo.\n",
        "\n",
        "Com a adição do pattern nosso campo de CPF ficou da seguinte maneira:\n",
        "\n",
        "\n",
        "\n",
        "Com a ajuda do pattern e das expressões regulares conseguimos resolver uma parte da tarefa, agora o que precisamos fazer encontrar uma maneira de formatar o CPF no padrão que precisamos enviar ao back-end.\n",
        "\n",
        "Mais um pouco de Regex\n",
        "Para começar vamos criar uma função que vai ser responsável por formatar o CPF. Dentro dessa função vamos ter as variáveis :\n",
        "\n",
        "elementoAlvo: responsável pelo parâmetro que vai ser passado na função\n",
        "cpfAtual: responsável por capturar os números do CPF digitados\n",
        "cpfAtualizado: responsável por receber o CPF formatado.\n",
        "\"\"\""
      ],
      "execution_count": 49,
      "outputs": []
    },
    {
      "cell_type": "code",
      "metadata": {
        "id": "8goafqySYneo"
      },
      "source": [
        "texto2 = \"\"\"\n",
        "Vamos imaginar uma empresa como o Nubank, seu nome é ByteBank. A primeira vista ela vende cartões de crédito e possui uma estratégia de marketing de conteúdo para seus clientes (Business to Consumer, B2C).\n",
        "\n",
        "Agora ela está lançando um novo cartão focado em empresas e quer criar uma estratégia de marketing de conteúdo para outras empresas (business to business, B2B).\n",
        "\n",
        "Como eles podem criar essa estratégia? É possível utilizar ideias e ferramentas do marketing de conteúdo B2C para o B2B?\n",
        "\n",
        "No marketing de conteúdo criado para B2C da ByteBank é muito enfatizado que as principais vantagens da empresa são:\n",
        "\n",
        "saber o limite na hora;\n",
        "não pagar qualquer tarifa e\n",
        "não ter que lidar com burocracia na hora de fazer o cartão.\n",
        "Então, todo o plano é focado em criar conteúdos sobre questões relacionadas ao mundo financeiro, para mostrar que a empresa é especialista no assunto, transmitindo uma confiança aos clientes.\n",
        "\n",
        "A equipe de marketing escreveu um texto no qual foram explicadas todas as taxas do cartão de crédito. Depois de explicar com detalhes o que é cada taxa, foi mostrado o porquê do cartão dessa empresa não cobrar nenhuma delas.\n",
        "\n",
        "Para mostrar na prática o quanto o consumidor economizaria, eles deram como um exemplo que mostram o que pode ser comprado com o dinheiro economizado em tarifas do cartão. Veja como ficou o texto:\n",
        "\n",
        "Se a tarifa é de 30 reais por mês, depois de um ano: 30 (tarifa) * 12 (meses) = 360, você gasta R$ 360,00 só em tarifas! Não seria muito melhor comprar um Kindle ou dois jogos para Playstation 4 ou, até mesmo, ir uma vez por mês ao cinema (e pagando inteira) com esse dinheiro em vez de pagá-lo em tarifas?\n",
        "\n",
        "Será que se pode fazer a mesma coisa para o B2B, já que não existem tarifas para empresas também?\n",
        "\n",
        "As empresas que querem comprar um produto precisam avaliar muito bem toda a compra, sempre se perguntando se aquele produto realmente compensa para ela, principalmente a longo prazo.\n",
        "\n",
        "Então, e se fosse dito coisas que a empresa poderia fazer com o dinheiro que também vão trazer um retorno financeiro, ao contrário das taxas dos bancos? Como fazer pesquisas com usuários, desenvolver novos produtos, treinar pessoas para marketing, entre outras coisas?\n",
        "\n",
        "Pensando nessas diferenças, utilizamos o mesmo exemplo: quanto seria economizado por ano pela empresa cliente. Porém, no texto inteiro, queremos também mostrar dicas de como ela pode poupar, de diversas maneiras, mesmo usando um cartão de crédito. Então, o exemplo de economia no texto ficou assim:\n",
        "\n",
        "Pensando que a tarifa para empresas é mais barata que para pessoas físicas, ou seja, de 30 reais, passa a ser 10 reais por cartão para cada colaborador, e dez cartões serão feitos, cada um pertencendo a colaborador, depois de um ano, serão pagos: 10 (de tarifa) * 10 (quantidade de cartões) * 12 (meses do ano) = 1200.\n",
        "\n",
        "Assim, a organização gastaria R$ 1.200,00 para manter os cartões durante esse período. Agora, se os cartões não possuem tarifa nenhuma, em vez de pagar esse valor, a empresa economizará R$1.200,00.\n",
        "\n",
        "Agora, com essa economia, você poderia investir em treinamentos ou eventos, que, após um tempo, poderiam aumentar ainda mais o retorno da empresa.\n",
        "\n",
        "Foi usada uma linguagem mais formal do que a B2C porque quando estamos lidando com empresas temos que ser mais práticos e mostrar exatamente o que a empresa ganha, e, no caso, até como poderia ganhar mais depois.\n",
        "\n",
        "Além dessa mudança na linguagem, tivemos ideias diferentes de conteúdo. No B2C foram apresentados conhecimentos a respeito de cada taxa, para que a pessoa entenda o que está pagando e confie em empresas que não cobra as taxas.\n",
        "\n",
        "Agora para B2B foram apresentadas formas para economizar no cartão, pois, muitas vezes, os empresários sabem o que é cada taxa do cartão e tem que utilizá-lo mesmo assim. Então, mostramos como ele pode economizar e, uma dessas formas, é usar o cartão da ByteBank.\n",
        "\n",
        "Nesse mesmo texto para B2B também acrescentamos o conteúdo de outra vantagem do cartão: poder determinar um limite de gastos para cada categoria nos cartões dos funcionários da empresa.\n",
        "\n",
        "Dessa forma, os funcionários não podem gastar mais do que o determinado e, assim, a empresa consegue economizar e planejar os gastos e não extrapolar com compras dos funcionários.\n",
        "\n",
        "O foco da comunicação B2B que utilizamos foi dar dicas para não cometer erros e economizar mais, para que a empresa perceba que utilizar o cartão é vantagem.\n",
        "\n",
        "E caso a sua empresa seja diferente da ByteBank, seja só B2B e não tenha nenhum plano de comunicação focado para B2C para se basear?\n",
        "\n",
        "Existem diversas empresas B2B:\n",
        "\n",
        "as que vendem tanto para B2B quanto para B2C, como a ByteBank;\n",
        "as que vendem para ambos os consumidores, mas possuem um foco maior no B2B, como a Marmotex, que tem como serviço entrega de marmitas e entregam tanto para consumidores quanto empresas, mas possuem um foco maior em organizações e catering para eventos, ou seja, B2B\n",
        "as empresas somente B2B, como as de agências de publicidade.\n",
        "Cada uma das empresas que são B2B possui um produto e um serviço para mostrar.\n",
        "\n",
        "Então, caso você trabalhe em uma empresa que não possui um plano de marketing de conteúdo para B2C para se basear, é só seguir a ideia do marketing de conteúdo, de passar informações relacionados a sua empresa, tornando-a uma autoridade no assunto. E, além disso, mostrar maneiras que o seu produto e/ou serviço pode ajudar a empresa em determinado tema.\n",
        "\n",
        "No B2B, como no marketing de conteúdo focado no B2C, é importante frisar a importância e a relevância do produto e/ou serviço para o cliente. E, melhor, a longo prazo.\n",
        "\n",
        "A empresa cliente precisa entender e saber que a vantagem trazida pelo produto será duradoura. Pois o processo de compra B2B é mais longo justamente porque há muito em jogo e muitas pessoas envolvidas.\n",
        "\n",
        "Mudar de produto ou serviço é trabalhoso e pode causar prejuízo para a empresa, assim, eles buscam e precisam de garantias de que a solução funcionará por muito tempo.\n",
        "\n",
        "Assim, como no marketing B2C, os tipos de conteúdo devem se atentar aos clientes em cada fase do funil de marketing de conteúdo para trazer o conteúdo certo para a empresa em cada momento da obtenção do cartão.\n",
        "\n",
        "Para isso, a Bytebank utilizou dados, números, infográficos e mostrou com exemplos práticos maneiras de ajudar a contratante. Também escreveu conteúdos com histórias de empresas – os chamados cases de sucesso – que obtiveram lucro ou sucesso com o produto/serviço.\n",
        "\n",
        "Além disso, apresentou novidades e dicas tanto da sua empresa, que passou a fornecer uma conta para pessoas físicas e jurídicas, quanto do segmento dela, com informações que podem ser úteis ao cliente do setor financeiro.\n",
        "\n",
        "Como vimos, as principais diferenças entre os conteúdos B2C para o B2B são a linguagem, que deve ser mais formal se for B2B e apelar para o emocional se for B2C.\n",
        "\n",
        "No B2B você estará lidando com pessoas que tomam decisões nas empresas, então deverá mostrar como o produto pode ajudar a empresa, de preferência a longo prazo.\n",
        "\n",
        "Fora isso, o tipo de conteúdo pode ser o mesmo do marketing de conteúdo B2C. Passando desde textos sobre novidades, inovações e dicas na área, até infográficos com dados de pesquisas, vídeos, áudios de podcast, imagens e publicações nas redes sociais.\n",
        "\n",
        "Também, para conteúdo B2B, é muito comum encontrar whitepapers, grupos de usuários, meetups, cases de sucesso, trial gratuito, e até mesmo vídeos ou campanhas e posts de marketing com influenciadores.\n",
        "\"\"\""
      ],
      "execution_count": 50,
      "outputs": []
    },
    {
      "cell_type": "code",
      "metadata": {
        "id": "TCpKcX5TYrvY"
      },
      "source": [
        "from collections import Counter\n",
        "def analisa_frequencia_de_letras(texto):\n",
        "  aparicoes = Counter(texto.lower()) #cria o dicionário com todas as palavras e número de aparições\n",
        "  total_de_caracteres = sum(aparicoes.values()) #conta o total de caracteres\n",
        "\n",
        "  proporcoes = [(letra, frequencia / total_de_caracteres) for letra, frequencia in aparicoes.items()]# cria uma tupla com CARACTERE : FREQUENCIA para cada linha em aparições\n",
        "  proporcoes = Counter(dict(proporcoes)) # cria um dicionário com base na list definida acima, para podermos usar a propriedade most_common() do dict\n",
        "  mais_comuns = proporcoes.most_common(10) # cria um dicionário com os 10 mais comuns\n",
        "  for caractere, proporcao in mais_comuns:\n",
        "    print(\"{} => {:.2f}%\".format(caractere, proporcao * 100)) "
      ],
      "execution_count": 51,
      "outputs": []
    },
    {
      "cell_type": "code",
      "metadata": {
        "colab": {
          "base_uri": "https://localhost:8080/"
        },
        "id": "esRftnYCbYY-",
        "outputId": "66732714-b231-4b06-b0a7-85fd9b85d180"
      },
      "source": [
        "analisa_frequencia_de_letras(texto1)"
      ],
      "execution_count": 52,
      "outputs": [
        {
          "output_type": "stream",
          "text": [
            "  => 16.14%\n",
            "a => 9.61%\n",
            "o => 9.45%\n",
            "e => 8.68%\n",
            "r => 6.75%\n",
            "s => 6.37%\n",
            "n => 4.17%\n",
            "m => 3.62%\n",
            "c => 3.57%\n",
            "u => 3.57%\n"
          ],
          "name": "stdout"
        }
      ]
    },
    {
      "cell_type": "code",
      "metadata": {
        "colab": {
          "base_uri": "https://localhost:8080/"
        },
        "id": "x6vNlD1GbcGn",
        "outputId": "d0ab9f25-2e12-43c1-f8fe-3316bc272c41"
      },
      "source": [
        "analisa_frequencia_de_letras(texto2)"
      ],
      "execution_count": 53,
      "outputs": [
        {
          "output_type": "stream",
          "text": [
            "  => 16.28%\n",
            "a => 9.85%\n",
            "e => 9.40%\n",
            "o => 8.54%\n",
            "s => 6.73%\n",
            "r => 5.76%\n",
            "m => 4.45%\n",
            "t => 4.01%\n",
            "i => 3.99%\n",
            "n => 3.91%\n"
          ],
          "name": "stdout"
        }
      ]
    },
    {
      "cell_type": "code",
      "metadata": {
        "id": "3STvDrEYbfRV"
      },
      "source": [
        ""
      ],
      "execution_count": null,
      "outputs": []
    }
  ]
}